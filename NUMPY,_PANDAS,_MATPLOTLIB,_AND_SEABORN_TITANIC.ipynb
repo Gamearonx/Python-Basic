{
  "nbformat": 4,
  "nbformat_minor": 0,
  "metadata": {
    "colab": {
      "provenance": [],
      "authorship_tag": "ABX9TyMb1ON5XiVbBzTL3Cn8DYgy",
      "include_colab_link": true
    },
    "kernelspec": {
      "name": "python3",
      "display_name": "Python 3"
    },
    "language_info": {
      "name": "python"
    }
  },
  "cells": [
    {
      "cell_type": "markdown",
      "metadata": {
        "id": "view-in-github",
        "colab_type": "text"
      },
      "source": [
        "<a href=\"https://colab.research.google.com/github/Gamearonx/Python-Basic/blob/main/NUMPY%2C_PANDAS%2C_MATPLOTLIB%2C_AND_SEABORN_TITANIC.ipynb\" target=\"_parent\"><img src=\"https://colab.research.google.com/assets/colab-badge.svg\" alt=\"Open In Colab\"/></a>"
      ]
    },
    {
      "cell_type": "markdown",
      "source": [
        "# Importing Libraries"
      ],
      "metadata": {
        "id": "3znYuv_iWwhM"
      }
    },
    {
      "cell_type": "code",
      "execution_count": 11,
      "metadata": {
        "id": "bh509ZINWk7B"
      },
      "outputs": [],
      "source": [
        "# Importing Libraries\n",
        "import pandas as pd\n",
        "import numpy as np\n",
        "import matplotlib.pyplot as plt\n",
        "import seaborn as sns"
      ]
    },
    {
      "cell_type": "code",
      "source": [
        "from google.colab import drive\n",
        "drive.mount('/content/drive')"
      ],
      "metadata": {
        "colab": {
          "base_uri": "https://localhost:8080/"
        },
        "id": "MronykQZWypS",
        "outputId": "c4b3f07e-9cbe-4068-96de-aac5b8cec508"
      },
      "execution_count": 12,
      "outputs": [
        {
          "output_type": "stream",
          "name": "stdout",
          "text": [
            "Drive already mounted at /content/drive; to attempt to forcibly remount, call drive.mount(\"/content/drive\", force_remount=True).\n"
          ]
        }
      ]
    },
    {
      "cell_type": "code",
      "source": [
        "df = pd.read_csv(\"/content/drive/My Drive/PRE BOOT CAMP ASSIGNMENT/train.csv\")"
      ],
      "metadata": {
        "id": "9aJ2rQvOW6wz"
      },
      "execution_count": 13,
      "outputs": []
    },
    {
      "cell_type": "markdown",
      "source": [
        "# 1. Inspecting Dataset"
      ],
      "metadata": {
        "id": "SBPbwrPbW9Mz"
      }
    },
    {
      "cell_type": "code",
      "source": [
        "# Inspect the dataset\n",
        "print(\"Dataset Info:\")\n",
        "df.info()\n",
        "\n",
        "print(\"\\nFirst 5 Rows:\")\n",
        "print(df.head())\n",
        "\n",
        "print(\"\\nSummary Statistics:\")\n",
        "print(df.describe())"
      ],
      "metadata": {
        "colab": {
          "base_uri": "https://localhost:8080/"
        },
        "id": "FkBpZ1KYW-Kp",
        "outputId": "985a16d2-1eb2-4ec9-e54f-b22771ae71a6"
      },
      "execution_count": 14,
      "outputs": [
        {
          "output_type": "stream",
          "name": "stdout",
          "text": [
            "Dataset Info:\n",
            "<class 'pandas.core.frame.DataFrame'>\n",
            "RangeIndex: 891 entries, 0 to 890\n",
            "Data columns (total 12 columns):\n",
            " #   Column       Non-Null Count  Dtype  \n",
            "---  ------       --------------  -----  \n",
            " 0   PassengerId  891 non-null    int64  \n",
            " 1   Survived     891 non-null    int64  \n",
            " 2   Pclass       891 non-null    int64  \n",
            " 3   Name         891 non-null    object \n",
            " 4   Sex          891 non-null    object \n",
            " 5   Age          714 non-null    float64\n",
            " 6   SibSp        891 non-null    int64  \n",
            " 7   Parch        891 non-null    int64  \n",
            " 8   Ticket       891 non-null    object \n",
            " 9   Fare         891 non-null    float64\n",
            " 10  Cabin        204 non-null    object \n",
            " 11  Embarked     889 non-null    object \n",
            "dtypes: float64(2), int64(5), object(5)\n",
            "memory usage: 83.7+ KB\n",
            "\n",
            "First 5 Rows:\n",
            "   PassengerId  Survived  Pclass  \\\n",
            "0            1         0       3   \n",
            "1            2         1       1   \n",
            "2            3         1       3   \n",
            "3            4         1       1   \n",
            "4            5         0       3   \n",
            "\n",
            "                                                Name     Sex   Age  SibSp  \\\n",
            "0                            Braund, Mr. Owen Harris    male  22.0      1   \n",
            "1  Cumings, Mrs. John Bradley (Florence Briggs Th...  female  38.0      1   \n",
            "2                             Heikkinen, Miss. Laina  female  26.0      0   \n",
            "3       Futrelle, Mrs. Jacques Heath (Lily May Peel)  female  35.0      1   \n",
            "4                           Allen, Mr. William Henry    male  35.0      0   \n",
            "\n",
            "   Parch            Ticket     Fare Cabin Embarked  \n",
            "0      0         A/5 21171   7.2500   NaN        S  \n",
            "1      0          PC 17599  71.2833   C85        C  \n",
            "2      0  STON/O2. 3101282   7.9250   NaN        S  \n",
            "3      0            113803  53.1000  C123        S  \n",
            "4      0            373450   8.0500   NaN        S  \n",
            "\n",
            "Summary Statistics:\n",
            "       PassengerId    Survived      Pclass         Age       SibSp  \\\n",
            "count   891.000000  891.000000  891.000000  714.000000  891.000000   \n",
            "mean    446.000000    0.383838    2.308642   29.699118    0.523008   \n",
            "std     257.353842    0.486592    0.836071   14.526497    1.102743   \n",
            "min       1.000000    0.000000    1.000000    0.420000    0.000000   \n",
            "25%     223.500000    0.000000    2.000000   20.125000    0.000000   \n",
            "50%     446.000000    0.000000    3.000000   28.000000    0.000000   \n",
            "75%     668.500000    1.000000    3.000000   38.000000    1.000000   \n",
            "max     891.000000    1.000000    3.000000   80.000000    8.000000   \n",
            "\n",
            "            Parch        Fare  \n",
            "count  891.000000  891.000000  \n",
            "mean     0.381594   32.204208  \n",
            "std      0.806057   49.693429  \n",
            "min      0.000000    0.000000  \n",
            "25%      0.000000    7.910400  \n",
            "50%      0.000000   14.454200  \n",
            "75%      0.000000   31.000000  \n",
            "max      6.000000  512.329200  \n"
          ]
        }
      ]
    },
    {
      "cell_type": "markdown",
      "source": [
        "# 2. Numpy Operation"
      ],
      "metadata": {
        "id": "Ml4ZaIo-XBKy"
      }
    },
    {
      "cell_type": "code",
      "source": [
        "# Create arrays\n",
        "array_1d = np.array([1, 2, 3, 4, 5])\n",
        "array_zeros = np.zeros((3, 3))\n",
        "array_ones = np.ones((2, 2))\n",
        "array_random = np.random.rand(3, 3)\n",
        "\n",
        "# Perform element-wise operations\n",
        "array_sum = array_1d + 10\n",
        "array_square = np.square(array_1d)\n",
        "\n",
        "# Reshape and concatenate arrays\n",
        "array_reshaped = array_1d.reshape((5, 1))\n",
        "array_hstack = np.hstack((array_reshaped, array_reshaped))\n",
        "array_vstack = np.vstack((array_reshaped, array_reshaped))"
      ],
      "metadata": {
        "id": "qPTfKaEKXDrh"
      },
      "execution_count": 15,
      "outputs": []
    },
    {
      "cell_type": "markdown",
      "source": [
        "# 2. DF Manipulation"
      ],
      "metadata": {
        "id": "EoImP3O0XGP7"
      }
    },
    {
      "cell_type": "code",
      "source": [
        "# Selecting specific columns\n",
        "df_selected = df.iloc[:, :3]  # Selecting first 3 columns\n",
        "print(\"\\nSelected Columns:\")\n",
        "print(df_selected.head())\n",
        "\n",
        "# Filtering rows where first column value > mean\n",
        "filtered_df = df[df.iloc[:, 0] > df.iloc[:, 0].mean()]\n",
        "print(\"\\nFiltered DataFrame:\")\n",
        "print(filtered_df.head())\n",
        "\n",
        "# Handling missing values\n",
        "df.fillna(df.median(numeric_only=True), inplace=True)\n",
        "df.dropna(inplace=True)"
      ],
      "metadata": {
        "colab": {
          "base_uri": "https://localhost:8080/"
        },
        "id": "PaqIACHGXIwa",
        "outputId": "08e1d4ad-6c70-47a6-af4e-363931b1beed"
      },
      "execution_count": 18,
      "outputs": [
        {
          "output_type": "stream",
          "name": "stdout",
          "text": [
            "\n",
            "Selected Columns:\n",
            "   PassengerId  Survived  Pclass\n",
            "0            1         0       3\n",
            "1            2         1       1\n",
            "2            3         1       3\n",
            "3            4         1       1\n",
            "4            5         0       3\n",
            "\n",
            "Filtered DataFrame:\n",
            "     PassengerId  Survived  Pclass                               Name     Sex  \\\n",
            "446          447         1       2  Mellinger, Miss. Madeleine Violet  female   \n",
            "447          448         1       1        Seward, Mr. Frederic Kimber    male   \n",
            "448          449         1       3     Baclini, Miss. Marie Catherine  female   \n",
            "449          450         1       1     Peuchen, Major. Arthur Godfrey    male   \n",
            "450          451         0       2              West, Mr. Edwy Arthur    male   \n",
            "\n",
            "      Age  SibSp  Parch      Ticket     Fare Cabin Embarked  \n",
            "446  13.0      0      1      250644  19.5000   NaN        S  \n",
            "447  34.0      0      0      113794  26.5500   NaN        S  \n",
            "448   5.0      2      1        2666  19.2583   NaN        C  \n",
            "449  52.0      0      0      113786  30.5000  C104        S  \n",
            "450  36.0      1      2  C.A. 34651  27.7500   NaN        S  \n"
          ]
        }
      ]
    },
    {
      "cell_type": "markdown",
      "source": [
        "# 3. Data Preprocessing & Transformation"
      ],
      "metadata": {
        "id": "Q5VPyYHUXMUi"
      }
    },
    {
      "cell_type": "code",
      "source": [
        "# Normalize numerical columns\n",
        "numeric_cols = df.select_dtypes(include=[np.number]).columns\n",
        "for col in numeric_cols:\n",
        "    df[f\"normalized_{col}\"] = (df[col] - df[col].min()) / (df[col].max() - df[col].min())\n",
        "\n",
        "# Apply log transformation\n",
        "for col in numeric_cols:\n",
        "    df[f\"log_{col}\"] = np.log1p(df[col])\n",
        "\n",
        "# Convert categorical variables to numerical format\n",
        "df = pd.get_dummies(df, drop_first=True)"
      ],
      "metadata": {
        "id": "a5CxqzWnXPCq"
      },
      "execution_count": 19,
      "outputs": []
    },
    {
      "cell_type": "markdown",
      "source": [
        "# 4: Data Visualization"
      ],
      "metadata": {
        "id": "qZ6qI4OkXRoD"
      }
    },
    {
      "cell_type": "code",
      "source": [
        "# Function to Plot Survival Rate by Gender\n",
        "def plot_survival_rate(df):\n",
        "    if 'Sex' in df.columns and 'Survived' in df.columns:\n",
        "        plt.figure(figsize=(6, 4))\n",
        "        sns.barplot(x=df['Sex'], y=df['Survived'], estimator=np.mean, ci=None, palette='coolwarm')\n",
        "        plt.xlabel(\"Gender\")\n",
        "        plt.ylabel(\"Survival Rate\")\n",
        "        plt.title(\"Survival Rate by Gender\")\n",
        "        plt.show()\n",
        "    else:\n",
        "        print(\"Required columns not found in dataset. Available columns:\", df.columns.tolist())\n"
      ],
      "metadata": {
        "id": "9I5r5g5BXSji"
      },
      "execution_count": 20,
      "outputs": []
    },
    {
      "cell_type": "code",
      "source": [
        "# Histogram\n",
        "df['Survived'].hist(by=df['Sex_male'], bins=20, figsize=(10, 5))\n",
        "plt.show()"
      ],
      "metadata": {
        "colab": {
          "base_uri": "https://localhost:8080/",
          "height": 466
        },
        "id": "SHs7Kc5ladUK",
        "outputId": "10ac1c3c-3b30-42c4-a107-e66a23fac799"
      },
      "execution_count": 21,
      "outputs": [
        {
          "output_type": "display_data",
          "data": {
            "text/plain": [
              "<Figure size 1000x500 with 2 Axes>"
            ],
            "image/png": "[encoded data removed]"
          },
          "metadata": {}
        }
      ]
    },
    {
      "cell_type": "code",
      "source": [
        "# Boxplot\n",
        "sns.boxplot(x='Sex_male', y='Survived', data=df)\n",
        "plt.show()"
      ],
      "metadata": {
        "colab": {
          "base_uri": "https://localhost:8080/",
          "height": 450
        },
        "id": "jXIPDo7waiVa",
        "outputId": "35b291d8-19e4-41e3-c4d0-b7d709f79ebe"
      },
      "execution_count": 22,
      "outputs": [
        {
          "output_type": "display_data",
          "data": {
            "text/plain": [
              "<Figure size 640x480 with 1 Axes>"
            ],
            "image/png": "[encoded data removed]"
          },
          "metadata": {}
        }
      ]
    },
    {
      "cell_type": "markdown",
      "source": [
        "# 5: Fine-tuning and Optimization"
      ],
      "metadata": {
        "id": "hA-8RS6eavsZ"
      }
    },
    {
      "cell_type": "code",
      "source": [
        "for col in df.select_dtypes(include=['int64', 'float64']).columns:\n",
        "    df[col] = df[col].astype('float32')\n",
        "\n",
        "print(\"\\nFinal DataFrame Info:\")\n",
        "df.info()"
      ],
      "metadata": {
        "colab": {
          "base_uri": "https://localhost:8080/"
        },
        "id": "-MEBZegJaz2a",
        "outputId": "aba5dfbd-9cf9-4eb3-e64d-d746d1438e09"
      },
      "execution_count": 23,
      "outputs": [
        {
          "output_type": "stream",
          "name": "stdout",
          "text": [
            "\n",
            "Final DataFrame Info:\n",
            "<class 'pandas.core.frame.DataFrame'>\n",
            "Index: 202 entries, 1 to 889\n",
            "Columns: 510 entries, PassengerId to Embarked_S\n",
            "dtypes: bool(489), float32(21)\n",
            "memory usage: 114.6 KB\n"
          ]
        }
      ]
    }
  ]
}