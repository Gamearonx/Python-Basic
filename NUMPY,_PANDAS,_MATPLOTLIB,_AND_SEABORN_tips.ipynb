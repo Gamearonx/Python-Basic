{
  "nbformat": 4,
  "nbformat_minor": 0,
  "metadata": {
    "colab": {
      "provenance": [],
      "authorship_tag": "ABX9TyMmCmX6OJCcYhFwiYDWImIF",
      "include_colab_link": true
    },
    "kernelspec": {
      "name": "python3",
      "display_name": "Python 3"
    },
    "language_info": {
      "name": "python"
    }
  },
  "cells": [
    {
      "cell_type": "markdown",
      "metadata": {
        "id": "view-in-github",
        "colab_type": "text"
      },
      "source": [
        "<a href=\"https://colab.research.google.com/github/Gamearonx/Python-Basic/blob/main/NUMPY%2C_PANDAS%2C_MATPLOTLIB%2C_AND_SEABORN_tips.ipynb\" target=\"_parent\"><img src=\"https://colab.research.google.com/assets/colab-badge.svg\" alt=\"Open In Colab\"/></a>"
      ]
    },
    {
      "cell_type": "markdown",
      "source": [
        "# Importing Libraries"
      ],
      "metadata": {
        "id": "3znYuv_iWwhM"
      }
    },
    {
      "cell_type": "code",
      "execution_count": 53,
      "metadata": {
        "id": "bh509ZINWk7B"
      },
      "outputs": [],
      "source": [
        "# Importing Libraries\n",
        "import pandas as pd\n",
        "import numpy as np\n",
        "import matplotlib.pyplot as plt\n",
        "import seaborn as sns"
      ]
    },
    {
      "cell_type": "code",
      "source": [
        "from google.colab import drive\n",
        "drive.mount('/content/drive')"
      ],
      "metadata": {
        "colab": {
          "base_uri": "https://localhost:8080/"
        },
        "id": "MronykQZWypS",
        "outputId": "fec8a414-e0e1-4648-d6c5-9d41f3d58312"
      },
      "execution_count": 54,
      "outputs": [
        {
          "output_type": "stream",
          "name": "stdout",
          "text": [
            "Drive already mounted at /content/drive; to attempt to forcibly remount, call drive.mount(\"/content/drive\", force_remount=True).\n"
          ]
        }
      ]
    },
    {
      "cell_type": "code",
      "source": [
        "df = pd.read_csv(\"/content/drive/My Drive/PRE BOOT CAMP ASSIGNMENT/tips.csv\")"
      ],
      "metadata": {
        "id": "9aJ2rQvOW6wz"
      },
      "execution_count": 56,
      "outputs": []
    },
    {
      "cell_type": "markdown",
      "source": [
        "# 1. Inspecting Dataset"
      ],
      "metadata": {
        "id": "SBPbwrPbW9Mz"
      }
    },
    {
      "cell_type": "code",
      "source": [
        "# Inspect the dataset\n",
        "print(\"First 5 rows of the dataset:\")\n",
        "print(df.head())\n",
        "\n",
        "print(\"\\nDataset Information:\")\n",
        "print(df.info())\n",
        "\n",
        "print(\"\\nSummary Statistics:\")\n",
        "print(df.describe())"
      ],
      "metadata": {
        "colab": {
          "base_uri": "https://localhost:8080/"
        },
        "id": "FkBpZ1KYW-Kp",
        "outputId": "7613e168-43a1-47ac-9d46-3ae2f111f381"
      },
      "execution_count": 52,
      "outputs": [
        {
          "output_type": "stream",
          "name": "stdout",
          "text": [
            "First 5 rows of the dataset:\n",
            "   total_bill   tip     sex smoker  day    time  size\n",
            "0       16.99  1.01  Female     No  Sun  Dinner     2\n",
            "1       10.34  1.66    Male     No  Sun  Dinner     3\n",
            "2       21.01  3.50    Male     No  Sun  Dinner     3\n",
            "3       23.68  3.31    Male     No  Sun  Dinner     2\n",
            "4       24.59  3.61  Female     No  Sun  Dinner     4\n",
            "\n",
            "Dataset Information:\n",
            "<class 'pandas.core.frame.DataFrame'>\n",
            "RangeIndex: 244 entries, 0 to 243\n",
            "Data columns (total 7 columns):\n",
            " #   Column      Non-Null Count  Dtype  \n",
            "---  ------      --------------  -----  \n",
            " 0   total_bill  244 non-null    float64\n",
            " 1   tip         244 non-null    float64\n",
            " 2   sex         244 non-null    object \n",
            " 3   smoker      244 non-null    object \n",
            " 4   day         244 non-null    object \n",
            " 5   time        244 non-null    object \n",
            " 6   size        244 non-null    int64  \n",
            "dtypes: float64(2), int64(1), object(4)\n",
            "memory usage: 13.5+ KB\n",
            "None\n",
            "\n",
            "Summary Statistics:\n",
            "       total_bill         tip        size\n",
            "count  244.000000  244.000000  244.000000\n",
            "mean    19.785943    2.998279    2.569672\n",
            "std      8.902412    1.383638    0.951100\n",
            "min      3.070000    1.000000    1.000000\n",
            "25%     13.347500    2.000000    2.000000\n",
            "50%     17.795000    2.900000    2.000000\n",
            "75%     24.127500    3.562500    3.000000\n",
            "max     50.810000   10.000000    6.000000\n"
          ]
        }
      ]
    },
    {
      "cell_type": "markdown",
      "source": [
        "# 2. Numpy Operation"
      ],
      "metadata": {
        "id": "Ml4ZaIo-XBKy"
      }
    },
    {
      "cell_type": "code",
      "source": [
        "# Create NumPy arrays\n",
        "array_1d = np.array([1, 2, 3, 4, 5])\n",
        "array_2d = np.array([[1, 2, 3], [4, 5, 6]])\n",
        "zeros_array = np.zeros((3, 3))\n",
        "ones_array = np.ones((2, 2))\n",
        "random_array = np.random.rand(3, 3)\n",
        "\n",
        "# Perform element-wise operations\n",
        "sum_array = array_1d + 10  # Add 10 to each element\n",
        "mult_array = array_1d * 2  # Multiply each element by 2\n",
        "\n",
        "# Reshape and concatenate arrays\n",
        "reshaped_array = array_1d.reshape(5, 1)  # Reshaping 1D to 2D\n",
        "hstack_array = np.hstack((array_2d, np.array([[7], [8]])))  # Horizontal stacking\n",
        "vstack_array = np.vstack((array_2d, np.array([7, 8, 9])))   # Vertical stacking\n",
        "\n",
        "# Display outputs\n",
        "zeros_array, ones_array, random_array, sum_array, mult_array, reshaped_array, hstack_array, vstack_array\n",
        "\n"
      ],
      "metadata": {
        "colab": {
          "base_uri": "https://localhost:8080/"
        },
        "id": "qPTfKaEKXDrh",
        "outputId": "aee719f2-88b2-4ab0-cbd0-577165f1f1c4"
      },
      "execution_count": 58,
      "outputs": [
        {
          "output_type": "execute_result",
          "data": {
            "text/plain": [
              "(array([[0., 0., 0.],\n",
              "        [0., 0., 0.],\n",
              "        [0., 0., 0.]]),\n",
              " array([[1., 1.],\n",
              "        [1., 1.]]),\n",
              " array([[0.49646064, 0.39015836, 0.92701022],\n",
              "        [0.87911728, 0.22088965, 0.94720833],\n",
              "        [0.26112727, 0.0528814 , 0.61996462]]),\n",
              " array([11, 12, 13, 14, 15]),\n",
              " array([ 2,  4,  6,  8, 10]),\n",
              " array([[1],\n",
              "        [2],\n",
              "        [3],\n",
              "        [4],\n",
              "        [5]]),\n",
              " array([[1, 2, 3, 7],\n",
              "        [4, 5, 6, 8]]),\n",
              " array([[1, 2, 3],\n",
              "        [4, 5, 6],\n",
              "        [7, 8, 9]]))"
            ]
          },
          "metadata": {},
          "execution_count": 58
        }
      ]
    },
    {
      "cell_type": "markdown",
      "source": [
        "# 2. DF Manipulation"
      ],
      "metadata": {
        "id": "EoImP3O0XGP7"
      }
    },
    {
      "cell_type": "code",
      "source": [
        "# Selecting specific columns\n",
        "selected_columns = df[['total_bill', 'tip', 'size']]\n",
        "\n",
        "# Filtering rows (e.g., tips greater than $5)\n",
        "high_tips = df[df['tip'] > 5]\n",
        "\n",
        "# Grouping by 'day' and aggregating average total_bill and tip\n",
        "grouped_data = df.groupby('day')[['total_bill', 'tip']].mean()\n",
        "\n",
        "# Checking for missing values and handling them (no missing values here, but we'll show the function)\n",
        "missing_values = df.isnull().sum()\n",
        "\n",
        "# Display outputs\n",
        "selected_columns.head(), high_tips.head(), grouped_data, missing_values\n",
        "\n"
      ],
      "metadata": {
        "colab": {
          "base_uri": "https://localhost:8080/"
        },
        "id": "PaqIACHGXIwa",
        "outputId": "85e96796-6ed2-4398-afc9-b68105413102"
      },
      "execution_count": 59,
      "outputs": [
        {
          "output_type": "execute_result",
          "data": {
            "text/plain": [
              "(   total_bill   tip  size\n",
              " 0       16.99  1.01     2\n",
              " 1       10.34  1.66     3\n",
              " 2       21.01  3.50     3\n",
              " 3       23.68  3.31     2\n",
              " 4       24.59  3.61     4,\n",
              "     total_bill   tip     sex smoker  day    time  size\n",
              " 23       39.42  7.58    Male     No  Sat  Dinner     4\n",
              " 44       30.40  5.60    Male     No  Sun  Dinner     4\n",
              " 47       32.40  6.00    Male     No  Sun  Dinner     4\n",
              " 52       34.81  5.20  Female     No  Sun  Dinner     4\n",
              " 59       48.27  6.73    Male     No  Sat  Dinner     4,\n",
              "       total_bill       tip\n",
              " day                       \n",
              " Fri    17.151579  2.734737\n",
              " Sat    20.441379  2.993103\n",
              " Sun    21.410000  3.255132\n",
              " Thur   17.682742  2.771452,\n",
              " total_bill    0\n",
              " tip           0\n",
              " sex           0\n",
              " smoker        0\n",
              " day           0\n",
              " time          0\n",
              " size          0\n",
              " dtype: int64)"
            ]
          },
          "metadata": {},
          "execution_count": 59
        }
      ]
    },
    {
      "cell_type": "markdown",
      "source": [
        "# 3. Data Preprocessing & Transformation"
      ],
      "metadata": {
        "id": "Q5VPyYHUXMUi"
      }
    },
    {
      "cell_type": "code",
      "source": [
        "# Normalize numerical columns (Min-Max Scaling)\n",
        "df['total_bill_norm'] = (df['total_bill'] - df['total_bill'].min()) / (df['total_bill'].max() - df['total_bill'].min())\n",
        "\n",
        "# Apply log transformation to 'tip' to reduce skewness\n",
        "df['log_tip'] = np.log(df['tip'] + 1)  # Adding 1 to avoid log(0)\n",
        "\n",
        "# Convert categorical variables into numerical using one-hot encoding\n",
        "df_encoded = pd.get_dummies(df, columns=['sex', 'smoker', 'day', 'time'], drop_first=True)\n",
        "\n",
        "# Display the first few rows\n",
        "df_encoded.head()\n"
      ],
      "metadata": {
        "colab": {
          "base_uri": "https://localhost:8080/",
          "height": 206
        },
        "id": "a5CxqzWnXPCq",
        "outputId": "34c38251-48ec-4df3-b3c1-9573eae59747"
      },
      "execution_count": 60,
      "outputs": [
        {
          "output_type": "execute_result",
          "data": {
            "text/plain": [
              "   total_bill   tip  size  total_bill_norm   log_tip  sex_Male  smoker_Yes  \\\n",
              "0       16.99  1.01     2         0.291579  0.698135     False       False   \n",
              "1       10.34  1.66     3         0.152283  0.978326      True       False   \n",
              "2       21.01  3.50     3         0.375786  1.504077      True       False   \n",
              "3       23.68  3.31     2         0.431713  1.460938      True       False   \n",
              "4       24.59  3.61     4         0.450775  1.528228     False       False   \n",
              "\n",
              "   day_Sat  day_Sun  day_Thur  time_Lunch  \n",
              "0    False     True     False       False  \n",
              "1    False     True     False       False  \n",
              "2    False     True     False       False  \n",
              "3    False     True     False       False  \n",
              "4    False     True     False       False  "
            ],
            "text/html": [
              "\n",
              "  <div id=\"df-94705a93-16df-4968-bc19-a497c362c655\" class=\"colab-df-container\">\n",
              "    <div>\n",
              "<style scoped>\n",
              "    .dataframe tbody tr th:only-of-type {\n",
              "        vertical-align: middle;\n",
              "    }\n",
              "\n",
              "    .dataframe tbody tr th {\n",
              "        vertical-align: top;\n",
              "    }\n",
              "\n",
              "    .dataframe thead th {\n",
              "        text-align: right;\n",
              "    }\n",
              "</style>\n",
              "<table border=\"1\" class=\"dataframe\">\n",
              "  <thead>\n",
              "    <tr style=\"text-align: right;\">\n",
              "      <th></th>\n",
              "      <th>total_bill</th>\n",
              "      <th>tip</th>\n",
              "      <th>size</th>\n",
              "      <th>total_bill_norm</th>\n",
              "      <th>log_tip</th>\n",
              "      <th>sex_Male</th>\n",
              "      <th>smoker_Yes</th>\n",
              "      <th>day_Sat</th>\n",
              "      <th>day_Sun</th>\n",
              "      <th>day_Thur</th>\n",
              "      <th>time_Lunch</th>\n",
              "    </tr>\n",
              "  </thead>\n",
              "  <tbody>\n",
              "    <tr>\n",
              "      <th>0</th>\n",
              "      <td>16.99</td>\n",
              "      <td>1.01</td>\n",
              "      <td>2</td>\n",
              "      <td>0.291579</td>\n",
              "      <td>0.698135</td>\n",
              "      <td>False</td>\n",
              "      <td>False</td>\n",
              "      <td>False</td>\n",
              "      <td>True</td>\n",
              "      <td>False</td>\n",
              "      <td>False</td>\n",
              "    </tr>\n",
              "    <tr>\n",
              "      <th>1</th>\n",
              "      <td>10.34</td>\n",
              "      <td>1.66</td>\n",
              "      <td>3</td>\n",
              "      <td>0.152283</td>\n",
              "      <td>0.978326</td>\n",
              "      <td>True</td>\n",
              "      <td>False</td>\n",
              "      <td>False</td>\n",
              "      <td>True</td>\n",
              "      <td>False</td>\n",
              "      <td>False</td>\n",
              "    </tr>\n",
              "    <tr>\n",
              "      <th>2</th>\n",
              "      <td>21.01</td>\n",
              "      <td>3.50</td>\n",
              "      <td>3</td>\n",
              "      <td>0.375786</td>\n",
              "      <td>1.504077</td>\n",
              "      <td>True</td>\n",
              "      <td>False</td>\n",
              "      <td>False</td>\n",
              "      <td>True</td>\n",
              "      <td>False</td>\n",
              "      <td>False</td>\n",
              "    </tr>\n",
              "    <tr>\n",
              "      <th>3</th>\n",
              "      <td>23.68</td>\n",
              "      <td>3.31</td>\n",
              "      <td>2</td>\n",
              "      <td>0.431713</td>\n",
              "      <td>1.460938</td>\n",
              "      <td>True</td>\n",
              "      <td>False</td>\n",
              "      <td>False</td>\n",
              "      <td>True</td>\n",
              "      <td>False</td>\n",
              "      <td>False</td>\n",
              "    </tr>\n",
              "    <tr>\n",
              "      <th>4</th>\n",
              "      <td>24.59</td>\n",
              "      <td>3.61</td>\n",
              "      <td>4</td>\n",
              "      <td>0.450775</td>\n",
              "      <td>1.528228</td>\n",
              "      <td>False</td>\n",
              "      <td>False</td>\n",
              "      <td>False</td>\n",
              "      <td>True</td>\n",
              "      <td>False</td>\n",
              "      <td>False</td>\n",
              "    </tr>\n",
              "  </tbody>\n",
              "</table>\n",
              "</div>\n",
              "    <div class=\"colab-df-buttons\">\n",
              "\n",
              "  <div class=\"colab-df-container\">\n",
              "    <button class=\"colab-df-convert\" onclick=\"convertToInteractive('df-94705a93-16df-4968-bc19-a497c362c655')\"\n",
              "            title=\"Convert this dataframe to an interactive table.\"\n",
              "            style=\"display:none;\">\n",
              "\n",
              "  <svg xmlns=\"http://www.w3.org/2000/svg\" height=\"24px\" viewBox=\"0 -960 960 960\">\n",
              "    <path d=\"M120-120v-720h720v720H120Zm60-500h600v-160H180v160Zm220 220h160v-160H400v160Zm0 220h160v-160H400v160ZM180-400h160v-160H180v160Zm440 0h160v-160H620v160ZM180-180h160v-160H180v160Zm440 0h160v-160H620v160Z\"/>\n",
              "  </svg>\n",
              "    </button>\n",
              "\n",
              "  <style>\n",
              "    .colab-df-container {\n",
              "      display:flex;\n",
              "      gap: 12px;\n",
              "    }\n",
              "\n",
              "    .colab-df-convert {\n",
              "      background-color: #E8F0FE;\n",
              "      border: none;\n",
              "      border-radius: 50%;\n",
              "      cursor: pointer;\n",
              "      display: none;\n",
              "      fill: #1967D2;\n",
              "      height: 32px;\n",
              "      padding: 0 0 0 0;\n",
              "      width: 32px;\n",
              "    }\n",
              "\n",
              "    .colab-df-convert:hover {\n",
              "      background-color: #E2EBFA;\n",
              "      box-shadow: 0px 1px 2px rgba(60, 64, 67, 0.3), 0px 1px 3px 1px rgba(60, 64, 67, 0.15);\n",
              "      fill: #174EA6;\n",
              "    }\n",
              "\n",
              "    .colab-df-buttons div {\n",
              "      margin-bottom: 4px;\n",
              "    }\n",
              "\n",
              "    [theme=dark] .colab-df-convert {\n",
              "      background-color: #3B4455;\n",
              "      fill: #D2E3FC;\n",
              "    }\n",
              "\n",
              "    [theme=dark] .colab-df-convert:hover {\n",
              "      background-color: #434B5C;\n",
              "      box-shadow: 0px 1px 3px 1px rgba(0, 0, 0, 0.15);\n",
              "      filter: drop-shadow(0px 1px 2px rgba(0, 0, 0, 0.3));\n",
              "      fill: #FFFFFF;\n",
              "    }\n",
              "  </style>\n",
              "\n",
              "    <script>\n",
              "      const buttonEl =\n",
              "        document.querySelector('#df-94705a93-16df-4968-bc19-a497c362c655 button.colab-df-convert');\n",
              "      buttonEl.style.display =\n",
              "        google.colab.kernel.accessAllowed ? 'block' : 'none';\n",
              "\n",
              "      async function convertToInteractive(key) {\n",
              "        const element = document.querySelector('#df-94705a93-16df-4968-bc19-a497c362c655');\n",
              "        const dataTable =\n",
              "          await google.colab.kernel.invokeFunction('convertToInteractive',\n",
              "                                                    [key], {});\n",
              "        if (!dataTable) return;\n",
              "\n",
              "        const docLinkHtml = 'Like what you see? Visit the ' +\n",
              "          '<a target=\"_blank\" href=https://colab.research.google.com/notebooks/data_table.ipynb>data table notebook</a>'\n",
              "          + ' to learn more about interactive tables.';\n",
              "        element.innerHTML = '';\n",
              "        dataTable['output_type'] = 'display_data';\n",
              "        await google.colab.output.renderOutput(dataTable, element);\n",
              "        const docLink = document.createElement('div');\n",
              "        docLink.innerHTML = docLinkHtml;\n",
              "        element.appendChild(docLink);\n",
              "      }\n",
              "    </script>\n",
              "  </div>\n",
              "\n",
              "\n",
              "<div id=\"df-cc779446-46f9-4712-8782-2cbf67601551\">\n",
              "  <button class=\"colab-df-quickchart\" onclick=\"quickchart('df-cc779446-46f9-4712-8782-2cbf67601551')\"\n",
              "            title=\"Suggest charts\"\n",
              "            style=\"display:none;\">\n",
              "\n",
              "<svg xmlns=\"http://www.w3.org/2000/svg\" height=\"24px\"viewBox=\"0 0 24 24\"\n",
              "     width=\"24px\">\n",
              "    <g>\n",
              "        <path d=\"M19 3H5c-1.1 0-2 .9-2 2v14c0 1.1.9 2 2 2h14c1.1 0 2-.9 2-2V5c0-1.1-.9-2-2-2zM9 17H7v-7h2v7zm4 0h-2V7h2v10zm4 0h-2v-4h2v4z\"/>\n",
              "    </g>\n",
              "</svg>\n",
              "  </button>\n",
              "\n",
              "<style>\n",
              "  .colab-df-quickchart {\n",
              "      --bg-color: #E8F0FE;\n",
              "      --fill-color: #1967D2;\n",
              "      --hover-bg-color: #E2EBFA;\n",
              "      --hover-fill-color: #174EA6;\n",
              "      --disabled-fill-color: #AAA;\n",
              "      --disabled-bg-color: #DDD;\n",
              "  }\n",
              "\n",
              "  [theme=dark] .colab-df-quickchart {\n",
              "      --bg-color: #3B4455;\n",
              "      --fill-color: #D2E3FC;\n",
              "      --hover-bg-color: #434B5C;\n",
              "      --hover-fill-color: #FFFFFF;\n",
              "      --disabled-bg-color: #3B4455;\n",
              "      --disabled-fill-color: #666;\n",
              "  }\n",
              "\n",
              "  .colab-df-quickchart {\n",
              "    background-color: var(--bg-color);\n",
              "    border: none;\n",
              "    border-radius: 50%;\n",
              "    cursor: pointer;\n",
              "    display: none;\n",
              "    fill: var(--fill-color);\n",
              "    height: 32px;\n",
              "    padding: 0;\n",
              "    width: 32px;\n",
              "  }\n",
              "\n",
              "  .colab-df-quickchart:hover {\n",
              "    background-color: var(--hover-bg-color);\n",
              "    box-shadow: 0 1px 2px rgba(60, 64, 67, 0.3), 0 1px 3px 1px rgba(60, 64, 67, 0.15);\n",
              "    fill: var(--button-hover-fill-color);\n",
              "  }\n",
              "\n",
              "  .colab-df-quickchart-complete:disabled,\n",
              "  .colab-df-quickchart-complete:disabled:hover {\n",
              "    background-color: var(--disabled-bg-color);\n",
              "    fill: var(--disabled-fill-color);\n",
              "    box-shadow: none;\n",
              "  }\n",
              "\n",
              "  .colab-df-spinner {\n",
              "    border: 2px solid var(--fill-color);\n",
              "    border-color: transparent;\n",
              "    border-bottom-color: var(--fill-color);\n",
              "    animation:\n",
              "      spin 1s steps(1) infinite;\n",
              "  }\n",
              "\n",
              "  @keyframes spin {\n",
              "    0% {\n",
              "      border-color: transparent;\n",
              "      border-bottom-color: var(--fill-color);\n",
              "      border-left-color: var(--fill-color);\n",
              "    }\n",
              "    20% {\n",
              "      border-color: transparent;\n",
              "      border-left-color: var(--fill-color);\n",
              "      border-top-color: var(--fill-color);\n",
              "    }\n",
              "    30% {\n",
              "      border-color: transparent;\n",
              "      border-left-color: var(--fill-color);\n",
              "      border-top-color: var(--fill-color);\n",
              "      border-right-color: var(--fill-color);\n",
              "    }\n",
              "    40% {\n",
              "      border-color: transparent;\n",
              "      border-right-color: var(--fill-color);\n",
              "      border-top-color: var(--fill-color);\n",
              "    }\n",
              "    60% {\n",
              "      border-color: transparent;\n",
              "      border-right-color: var(--fill-color);\n",
              "    }\n",
              "    80% {\n",
              "      border-color: transparent;\n",
              "      border-right-color: var(--fill-color);\n",
              "      border-bottom-color: var(--fill-color);\n",
              "    }\n",
              "    90% {\n",
              "      border-color: transparent;\n",
              "      border-bottom-color: var(--fill-color);\n",
              "    }\n",
              "  }\n",
              "</style>\n",
              "\n",
              "  <script>\n",
              "    async function quickchart(key) {\n",
              "      const quickchartButtonEl =\n",
              "        document.querySelector('#' + key + ' button');\n",
              "      quickchartButtonEl.disabled = true;  // To prevent multiple clicks.\n",
              "      quickchartButtonEl.classList.add('colab-df-spinner');\n",
              "      try {\n",
              "        const charts = await google.colab.kernel.invokeFunction(\n",
              "            'suggestCharts', [key], {});\n",
              "      } catch (error) {\n",
              "        console.error('Error during call to suggestCharts:', error);\n",
              "      }\n",
              "      quickchartButtonEl.classList.remove('colab-df-spinner');\n",
              "      quickchartButtonEl.classList.add('colab-df-quickchart-complete');\n",
              "    }\n",
              "    (() => {\n",
              "      let quickchartButtonEl =\n",
              "        document.querySelector('#df-cc779446-46f9-4712-8782-2cbf67601551 button');\n",
              "      quickchartButtonEl.style.display =\n",
              "        google.colab.kernel.accessAllowed ? 'block' : 'none';\n",
              "    })();\n",
              "  </script>\n",
              "</div>\n",
              "\n",
              "    </div>\n",
              "  </div>\n"
            ],
            "application/vnd.google.colaboratory.intrinsic+json": {
              "type": "dataframe",
              "variable_name": "df_encoded",
              "summary": "{\n  \"name\": \"df_encoded\",\n  \"rows\": 244,\n  \"fields\": [\n    {\n      \"column\": \"total_bill\",\n      \"properties\": {\n        \"dtype\": \"number\",\n        \"std\": 8.902411954856856,\n        \"min\": 3.07,\n        \"max\": 50.81,\n        \"num_unique_values\": 229,\n        \"samples\": [\n          22.12,\n          20.23,\n          14.78\n        ],\n        \"semantic_type\": \"\",\n        \"description\": \"\"\n      }\n    },\n    {\n      \"column\": \"tip\",\n      \"properties\": {\n        \"dtype\": \"number\",\n        \"std\": 1.3836381890011826,\n        \"min\": 1.0,\n        \"max\": 10.0,\n        \"num_unique_values\": 123,\n        \"samples\": [\n          3.35,\n          1.5,\n          6.73\n        ],\n        \"semantic_type\": \"\",\n        \"description\": \"\"\n      }\n    },\n    {\n      \"column\": \"size\",\n      \"properties\": {\n        \"dtype\": \"number\",\n        \"std\": 0,\n        \"min\": 1,\n        \"max\": 6,\n        \"num_unique_values\": 6,\n        \"samples\": [\n          2,\n          3,\n          5\n        ],\n        \"semantic_type\": \"\",\n        \"description\": \"\"\n      }\n    },\n    {\n      \"column\": \"total_bill_norm\",\n      \"properties\": {\n        \"dtype\": \"number\",\n        \"std\": 0.18647699947333174,\n        \"min\": 0.0,\n        \"max\": 1.0,\n        \"num_unique_values\": 229,\n        \"samples\": [\n          0.3990364474235442,\n          0.35944700460829493,\n          0.24528697109342268\n        ],\n        \"semantic_type\": \"\",\n        \"description\": \"\"\n      }\n    },\n    {\n      \"column\": \"log_tip\",\n      \"properties\": {\n        \"dtype\": \"number\",\n        \"std\": 0.3180387462254896,\n        \"min\": 0.6931471805599453,\n        \"max\": 2.3978952727983707,\n        \"num_unique_values\": 123,\n        \"samples\": [\n          1.4701758451005926,\n          0.9162907318741551,\n          2.0451088625993306\n        ],\n        \"semantic_type\": \"\",\n        \"description\": \"\"\n      }\n    },\n    {\n      \"column\": \"sex_Male\",\n      \"properties\": {\n        \"dtype\": \"boolean\",\n        \"num_unique_values\": 2,\n        \"samples\": [\n          true,\n          false\n        ],\n        \"semantic_type\": \"\",\n        \"description\": \"\"\n      }\n    },\n    {\n      \"column\": \"smoker_Yes\",\n      \"properties\": {\n        \"dtype\": \"boolean\",\n        \"num_unique_values\": 2,\n        \"samples\": [\n          true,\n          false\n        ],\n        \"semantic_type\": \"\",\n        \"description\": \"\"\n      }\n    },\n    {\n      \"column\": \"day_Sat\",\n      \"properties\": {\n        \"dtype\": \"boolean\",\n        \"num_unique_values\": 2,\n        \"samples\": [\n          true,\n          false\n        ],\n        \"semantic_type\": \"\",\n        \"description\": \"\"\n      }\n    },\n    {\n      \"column\": \"day_Sun\",\n      \"properties\": {\n        \"dtype\": \"boolean\",\n        \"num_unique_values\": 2,\n        \"samples\": [\n          false,\n          true\n        ],\n        \"semantic_type\": \"\",\n        \"description\": \"\"\n      }\n    },\n    {\n      \"column\": \"day_Thur\",\n      \"properties\": {\n        \"dtype\": \"boolean\",\n        \"num_unique_values\": 2,\n        \"samples\": [\n          true,\n          false\n        ],\n        \"semantic_type\": \"\",\n        \"description\": \"\"\n      }\n    },\n    {\n      \"column\": \"time_Lunch\",\n      \"properties\": {\n        \"dtype\": \"boolean\",\n        \"num_unique_values\": 2,\n        \"samples\": [\n          true,\n          false\n        ],\n        \"semantic_type\": \"\",\n        \"description\": \"\"\n      }\n    }\n  ]\n}"
            }
          },
          "metadata": {},
          "execution_count": 60
        }
      ]
    },
    {
      "cell_type": "markdown",
      "source": [
        "# 4: Data Visualization"
      ],
      "metadata": {
        "id": "qZ6qI4OkXRoD"
      }
    },
    {
      "cell_type": "code",
      "source": [
        "\n",
        "# Calculate Tip Percentage\n",
        "df['tip_pct'] = (df['tip'] / df['total_bill']) * 100\n",
        "\n",
        "# Summary statistics of tip percentage\n",
        "tip_summary = df['tip_pct'].describe()\n",
        "\n",
        "# Plot Histogram of Tip Percentage\n",
        "plt.figure(figsize=(12, 6))\n",
        "plt.hist(df['tip_pct'], bins=20, edgecolor='black', alpha=0.7)\n",
        "plt.xlabel(\"Tip Percentage (%)\")\n",
        "plt.ylabel(\"Frequency\")\n",
        "plt.title(\"Distribution of Tip Percentage\")\n",
        "plt.grid(True)\n",
        "plt.show()"
      ],
      "metadata": {
        "colab": {
          "base_uri": "https://localhost:8080/",
          "height": 564
        },
        "id": "9I5r5g5BXSji",
        "outputId": "e12f1869-73a4-4fc8-b8a8-23432d3c8173"
      },
      "execution_count": 61,
      "outputs": [
        {
          "output_type": "display_data",
          "data": {
            "text/plain": [
              "<Figure size 1200x600 with 1 Axes>"
            ],
            "image/png": "[encoded data removed]"
          },
          "metadata": {}
        }
      ]
    },
    {
      "cell_type": "code",
      "source": [
        "# Scatter Plot of Tip Percentage vs Total Bill\n",
        "plt.figure(figsize=(12, 6))\n",
        "plt.scatter(df['total_bill'], df['tip_pct'], alpha=0.6, color='blue')\n",
        "plt.xlabel(\"Total Bill ($)\")\n",
        "plt.ylabel(\"Tip Percentage (%)\")\n",
        "plt.title(\"Tip Percentage vs Total Bill\")\n",
        "plt.grid(True)\n",
        "plt.show()"
      ],
      "metadata": {
        "colab": {
          "base_uri": "https://localhost:8080/",
          "height": 564
        },
        "id": "11JgVsoSgCTh",
        "outputId": "366ff01a-57f7-4494-e54a-c9024690a920"
      },
      "execution_count": 62,
      "outputs": [
        {
          "output_type": "display_data",
          "data": {
            "text/plain": [
              "<Figure size 1200x600 with 1 Axes>"
            ],
            "image/png": "[encoded data removed]"
          },
          "metadata": {}
        }
      ]
    },
    {
      "cell_type": "code",
      "source": [
        "# Box Plot of Tip Percentage by Day\n",
        "plt.figure(figsize=(12, 6))\n",
        "sns.boxplot(x=df['day'], y=df['tip_pct'])\n",
        "plt.xlabel(\"Day of the Week\")\n",
        "plt.ylabel(\"Tip Percentage (%)\")\n",
        "plt.title(\"Tip Percentage Distribution by Day\")\n",
        "plt.show()"
      ],
      "metadata": {
        "colab": {
          "base_uri": "https://localhost:8080/",
          "height": 564
        },
        "id": "LR3eG9o2gOo5",
        "outputId": "bd386bbb-581c-4411-aacd-5a9991b9c89f"
      },
      "execution_count": 63,
      "outputs": [
        {
          "output_type": "display_data",
          "data": {
            "text/plain": [
              "<Figure size 1200x600 with 1 Axes>"
            ],
            "image/png": "[encoded data removed]"
          },
          "metadata": {}
        }
      ]
    },
    {
      "cell_type": "code",
      "source": [
        "# Display summary statistics\n",
        "tip_summary"
      ],
      "metadata": {
        "colab": {
          "base_uri": "https://localhost:8080/",
          "height": 335
        },
        "id": "bHAgsWOKgYsO",
        "outputId": "940df733-4d37-49f5-a25a-1c410d453bb5"
      },
      "execution_count": 64,
      "outputs": [
        {
          "output_type": "execute_result",
          "data": {
            "text/plain": [
              "count    244.000000\n",
              "mean      16.080258\n",
              "std        6.107220\n",
              "min        3.563814\n",
              "25%       12.912736\n",
              "50%       15.476977\n",
              "75%       19.147549\n",
              "max       71.034483\n",
              "Name: tip_pct, dtype: float64"
            ],
            "text/html": [
              "<div>\n",
              "<style scoped>\n",
              "    .dataframe tbody tr th:only-of-type {\n",
              "        vertical-align: middle;\n",
              "    }\n",
              "\n",
              "    .dataframe tbody tr th {\n",
              "        vertical-align: top;\n",
              "    }\n",
              "\n",
              "    .dataframe thead th {\n",
              "        text-align: right;\n",
              "    }\n",
              "</style>\n",
              "<table border=\"1\" class=\"dataframe\">\n",
              "  <thead>\n",
              "    <tr style=\"text-align: right;\">\n",
              "      <th></th>\n",
              "      <th>tip_pct</th>\n",
              "    </tr>\n",
              "  </thead>\n",
              "  <tbody>\n",
              "    <tr>\n",
              "      <th>count</th>\n",
              "      <td>244.000000</td>\n",
              "    </tr>\n",
              "    <tr>\n",
              "      <th>mean</th>\n",
              "      <td>16.080258</td>\n",
              "    </tr>\n",
              "    <tr>\n",
              "      <th>std</th>\n",
              "      <td>6.107220</td>\n",
              "    </tr>\n",
              "    <tr>\n",
              "      <th>min</th>\n",
              "      <td>3.563814</td>\n",
              "    </tr>\n",
              "    <tr>\n",
              "      <th>25%</th>\n",
              "      <td>12.912736</td>\n",
              "    </tr>\n",
              "    <tr>\n",
              "      <th>50%</th>\n",
              "      <td>15.476977</td>\n",
              "    </tr>\n",
              "    <tr>\n",
              "      <th>75%</th>\n",
              "      <td>19.147549</td>\n",
              "    </tr>\n",
              "    <tr>\n",
              "      <th>max</th>\n",
              "      <td>71.034483</td>\n",
              "    </tr>\n",
              "  </tbody>\n",
              "</table>\n",
              "</div><br><label><b>dtype:</b> float64</label>"
            ]
          },
          "metadata": {},
          "execution_count": 64
        }
      ]
    },
    {
      "cell_type": "markdown",
      "source": [
        "# 5: Fine-tuning and Optimization"
      ],
      "metadata": {
        "id": "hA-8RS6eavsZ"
      }
    },
    {
      "cell_type": "code",
      "source": [
        "# Check memory usage before optimization\n",
        "memory_before = df_encoded.memory_usage(deep=True).sum()\n",
        "\n",
        "# Convert data types to optimize memory usage\n",
        "df_encoded['size'] = df_encoded['size'].astype(np.int8)  # Convert to smaller int type\n",
        "df_encoded['sex_Male'] = df_encoded['sex_Male'].astype(np.int8)\n",
        "df_encoded['smoker_Yes'] = df_encoded['smoker_Yes'].astype(np.int8)\n",
        "df_encoded[['day_Sat', 'day_Sun', 'day_Thur', 'time_Lunch']] = df_encoded[['day_Sat', 'day_Sun', 'day_Thur', 'time_Lunch']].astype(np.int8)\n",
        "\n",
        "# Check memory usage after optimization\n",
        "memory_after = df_encoded.memory_usage(deep=True).sum()\n",
        "\n",
        "memory_before, memory_after\n"
      ],
      "metadata": {
        "colab": {
          "base_uri": "https://localhost:8080/"
        },
        "id": "2SbDyc6jfvyB",
        "outputId": "080dddcd-b530-4c59-cc5b-abb6ca9f7eb4"
      },
      "execution_count": 65,
      "outputs": [
        {
          "output_type": "execute_result",
          "data": {
            "text/plain": [
              "(np.int64(11356), np.int64(9648))"
            ]
          },
          "metadata": {},
          "execution_count": 65
        }
      ]
    }
  ]
}