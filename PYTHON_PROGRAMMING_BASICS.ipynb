{
  "nbformat": 4,
  "nbformat_minor": 0,
  "metadata": {
    "colab": {
      "provenance": [],
      "authorship_tag": "ABX9TyN2V7rFYPHy/5xXYj/aYZ6w",
      "include_colab_link": true
    },
    "kernelspec": {
      "name": "python3",
      "display_name": "Python 3"
    },
    "language_info": {
      "name": "python"
    }
  },
  "cells": [
    {
      "cell_type": "markdown",
      "metadata": {
        "id": "view-in-github",
        "colab_type": "text"
      },
      "source": [
        "<a href=\"https://colab.research.google.com/github/Gamearonx/Python-Basic/blob/main/PYTHON_PROGRAMMING_BASICS.ipynb\" target=\"_parent\"><img src=\"https://colab.research.google.com/assets/colab-badge.svg\" alt=\"Open In Colab\"/></a>"
      ]
    },
    {
      "cell_type": "code",
      "execution_count": 1,
      "metadata": {
        "id": "u3YADCmXCAl4"
      },
      "outputs": [],
      "source": [
        "import numpy as np\n",
        "import pandas as pd\n",
        "import matplotlib.pyplot as plt\n",
        "import seaborn as sns"
      ]
    },
    {
      "cell_type": "markdown",
      "source": [
        "# 1: Basic Print and Input Operations"
      ],
      "metadata": {
        "id": "-7ckLTX9Cons"
      }
    },
    {
      "cell_type": "code",
      "source": [
        "# Printing a message\n",
        "print(\"Hello, welcome to Python programming!\")\n",
        "\n",
        "name = input(\"Enter your name: \")\n",
        "print(\"Hello,\", name)"
      ],
      "metadata": {
        "colab": {
          "base_uri": "https://localhost:8080/"
        },
        "id": "VG51im00Cpls",
        "outputId": "fa11cea6-f06d-4254-f25d-74f63cb4805b"
      },
      "execution_count": 4,
      "outputs": [
        {
          "output_type": "stream",
          "name": "stdout",
          "text": [
            "Hello, welcome to Python programming!\n",
            "Enter your name: James Bonda\n",
            "Hello, James Bonda\n"
          ]
        }
      ]
    },
    {
      "cell_type": "markdown",
      "source": [
        "## 2: Assigning Values to Variables"
      ],
      "metadata": {
        "id": "9EfW5-BmEotE"
      }
    },
    {
      "cell_type": "code",
      "source": [
        "x = 10  # Integer\n",
        "y = 3.14  # Float\n",
        "z = \"Python\"  # String\n",
        "print(x, y, z)"
      ],
      "metadata": {
        "colab": {
          "base_uri": "https://localhost:8080/"
        },
        "id": "fLpjmuwZEuhc",
        "outputId": "01e59158-9f5f-4b0c-deba-db57d0b41497"
      },
      "execution_count": 5,
      "outputs": [
        {
          "output_type": "stream",
          "name": "stdout",
          "text": [
            "10 3.14 Python\n"
          ]
        }
      ]
    },
    {
      "cell_type": "markdown",
      "source": [
        "# 3: List Operations"
      ],
      "metadata": {
        "id": "EBDM7cxRGFWT"
      }
    },
    {
      "cell_type": "code",
      "source": [
        "# Creating a list\n",
        "numbers = [1, 2, 3, 4, 5]\n",
        "\n",
        "# Append an element\n",
        "numbers.append(6)\n",
        "\n",
        "# Remove an element\n",
        "numbers.remove(3)\n",
        "\n",
        "# Pop an element (removes last by default)\n",
        "numbers.pop()\n",
        "\n",
        "# Slicing a list\n",
        "sublist = numbers[1:4]\n",
        "\n",
        "print(\"Updated list:\", numbers)\n",
        "print(\"Sliced list:\", sublist)"
      ],
      "metadata": {
        "colab": {
          "base_uri": "https://localhost:8080/"
        },
        "id": "BKClwlmrGHqb",
        "outputId": "3aea9ca9-1837-466e-d3f1-fb834b6c1e6f"
      },
      "execution_count": 6,
      "outputs": [
        {
          "output_type": "stream",
          "name": "stdout",
          "text": [
            "Updated list: [1, 2, 4, 5]\n",
            "Sliced list: [2, 4, 5]\n"
          ]
        }
      ]
    },
    {
      "cell_type": "code",
      "source": [
        "for num in numbers:\n",
        "    print(num)"
      ],
      "metadata": {
        "colab": {
          "base_uri": "https://localhost:8080/"
        },
        "id": "ZgACrfrzGXjz",
        "outputId": "a3d84a6c-728a-4998-a76a-f826af79a771"
      },
      "execution_count": 7,
      "outputs": [
        {
          "output_type": "stream",
          "name": "stdout",
          "text": [
            "1\n",
            "2\n",
            "4\n",
            "5\n"
          ]
        }
      ]
    },
    {
      "cell_type": "markdown",
      "source": [
        "## 4: Tuple Operations"
      ],
      "metadata": {
        "id": "fNykcQFJGbSM"
      }
    },
    {
      "cell_type": "code",
      "source": [
        "# Creating a tuple\n",
        "my_tuple = (10, 20, 30)\n",
        "\n",
        "# Accessing elements\n",
        "print(my_tuple[1])"
      ],
      "metadata": {
        "colab": {
          "base_uri": "https://localhost:8080/"
        },
        "id": "3TnS4s5cGeEj",
        "outputId": "ddd96d19-1f5e-4363-85a0-d46bebe6d9bb"
      },
      "execution_count": 8,
      "outputs": [
        {
          "output_type": "stream",
          "name": "stdout",
          "text": [
            "20\n"
          ]
        }
      ]
    },
    {
      "cell_type": "code",
      "source": [
        "a, b, c = my_tuple\n",
        "print(a, b, c)"
      ],
      "metadata": {
        "colab": {
          "base_uri": "https://localhost:8080/"
        },
        "id": "esZO1UHwGnXj",
        "outputId": "b63ef9f7-ff58-4e71-8a74-40520c408273"
      },
      "execution_count": 9,
      "outputs": [
        {
          "output_type": "stream",
          "name": "stdout",
          "text": [
            "10 20 30\n"
          ]
        }
      ]
    },
    {
      "cell_type": "markdown",
      "source": [
        "## 5: Dictionary Operations"
      ],
      "metadata": {
        "id": "lwKpX6cTGrzV"
      }
    },
    {
      "cell_type": "markdown",
      "source": [
        "# 5.1 creating Dictionary"
      ],
      "metadata": {
        "id": "V7bRt6XaG1fT"
      }
    },
    {
      "cell_type": "code",
      "source": [
        "student_marks = {\"Alice\": 85, \"Bob\": 90, \"Charlie\": 78}\n",
        "\n",
        "# Accessing values\n",
        "print(student_marks[\"Alice\"])"
      ],
      "metadata": {
        "colab": {
          "base_uri": "https://localhost:8080/"
        },
        "id": "NP6jxEvAGt_T",
        "outputId": "08fbce5a-c066-4e52-e07d-d541f0ed951a"
      },
      "execution_count": 10,
      "outputs": [
        {
          "output_type": "stream",
          "name": "stdout",
          "text": [
            "85\n"
          ]
        }
      ]
    },
    {
      "cell_type": "markdown",
      "source": [
        "# 5.2 Adding, Updating, and Deleting**"
      ],
      "metadata": {
        "id": "Bk3_kJYzHJC7"
      }
    },
    {
      "cell_type": "code",
      "source": [
        "student_marks[\"David\"] = 88  # Adding\n",
        "student_marks[\"Alice\"] = 95  # Updating\n",
        "del student_marks[\"Charlie\"]  # Deleting\n",
        "\n",
        "print(student_marks)"
      ],
      "metadata": {
        "colab": {
          "base_uri": "https://localhost:8080/"
        },
        "id": "PyT8wX9yHKAb",
        "outputId": "105bf9f8-d67e-4ec8-8278-2101a9e81a76"
      },
      "execution_count": 11,
      "outputs": [
        {
          "output_type": "stream",
          "name": "stdout",
          "text": [
            "{'Alice': 95, 'Bob': 90, 'David': 88}\n"
          ]
        }
      ]
    },
    {
      "cell_type": "code",
      "source": [
        "for name, marks in student_marks.items():\n",
        "    print(name, \"scored\", marks)"
      ],
      "metadata": {
        "colab": {
          "base_uri": "https://localhost:8080/"
        },
        "id": "sFt8oH3cHd3c",
        "outputId": "8e17f4b6-756b-47f7-9b8d-ccb38b952e22"
      },
      "execution_count": 12,
      "outputs": [
        {
          "output_type": "stream",
          "name": "stdout",
          "text": [
            "Alice scored 95\n",
            "Bob scored 90\n",
            "David scored 88\n"
          ]
        }
      ]
    },
    {
      "cell_type": "markdown",
      "source": [
        "# 6: Set Operations"
      ],
      "metadata": {
        "id": "Y5AEgOauHiuL"
      }
    },
    {
      "cell_type": "markdown",
      "source": [
        "# 6.1: Creating a Set"
      ],
      "metadata": {
        "id": "XCi9njALHvkL"
      }
    },
    {
      "cell_type": "code",
      "source": [
        "my_set = {1, 2, 3, 4, 5}"
      ],
      "metadata": {
        "id": "eHi0UdgCHk0k"
      },
      "execution_count": 14,
      "outputs": []
    },
    {
      "cell_type": "markdown",
      "source": [
        "# 6.2 Performing Union, Intersection, and Difference"
      ],
      "metadata": {
        "id": "XjXELUkOHzR7"
      }
    },
    {
      "cell_type": "code",
      "source": [
        "set1 = {1, 2, 3}\n",
        "set2 = {3, 4, 5}\n",
        "\n",
        "print(\"Union:\", set1 | set2)\n",
        "print(\"Intersection:\", set1 & set2)\n",
        "print(\"Difference:\", set1 - set2)"
      ],
      "metadata": {
        "colab": {
          "base_uri": "https://localhost:8080/"
        },
        "id": "gL1dALn0H3vb",
        "outputId": "0a13545a-7905-4e2a-de58-8ce367002551"
      },
      "execution_count": 15,
      "outputs": [
        {
          "output_type": "stream",
          "name": "stdout",
          "text": [
            "Union: {1, 2, 3, 4, 5}\n",
            "Intersection: {3}\n",
            "Difference: {1, 2}\n"
          ]
        }
      ]
    },
    {
      "cell_type": "markdown",
      "source": [
        "# 7: Conditional Statements"
      ],
      "metadata": {
        "id": "yk4322K0ICTr"
      }
    },
    {
      "cell_type": "code",
      "source": [
        "num = int(input(\"Enter a number: \"))\n",
        "if num > 0:\n",
        "    print(\"Positive number\")\n",
        "elif num < 0:\n",
        "    print(\"Negative number\")\n",
        "else:\n",
        "    print(\"Zero\")"
      ],
      "metadata": {
        "colab": {
          "base_uri": "https://localhost:8080/"
        },
        "id": "Ah67U6lOIDhr",
        "outputId": "428a588c-fd35-4143-8417-27fef7dc5dc4"
      },
      "execution_count": 21,
      "outputs": [
        {
          "output_type": "stream",
          "name": "stdout",
          "text": [
            "Enter a number: 10\n",
            "Positive number\n"
          ]
        }
      ]
    },
    {
      "cell_type": "markdown",
      "source": [
        "# 8: Looping Constructs"
      ],
      "metadata": {
        "id": "0-sKEe-xIhRF"
      }
    },
    {
      "cell_type": "code",
      "source": [
        "for i in range(5):\n",
        "    print(i)"
      ],
      "metadata": {
        "colab": {
          "base_uri": "https://localhost:8080/"
        },
        "id": "YVoGTrT9Ii-9",
        "outputId": "54034fbe-7664-47a2-efdf-6cdc879e3b9c"
      },
      "execution_count": 22,
      "outputs": [
        {
          "output_type": "stream",
          "name": "stdout",
          "text": [
            "0\n",
            "1\n",
            "2\n",
            "3\n",
            "4\n"
          ]
        }
      ]
    },
    {
      "cell_type": "code",
      "source": [
        "count = 0\n",
        "while count < 5:\n",
        "    print(count)\n",
        "    count += 1"
      ],
      "metadata": {
        "colab": {
          "base_uri": "https://localhost:8080/"
        },
        "id": "qZ_MuFDlIsh8",
        "outputId": "13b5da34-9008-4d76-c596-7e259d818ad0"
      },
      "execution_count": 23,
      "outputs": [
        {
          "output_type": "stream",
          "name": "stdout",
          "text": [
            "0\n",
            "1\n",
            "2\n",
            "3\n",
            "4\n"
          ]
        }
      ]
    },
    {
      "cell_type": "markdown",
      "source": [
        "# 8.2 Breaking Loop"
      ],
      "metadata": {
        "id": "bI0XqE4bJAUj"
      }
    },
    {
      "cell_type": "code",
      "source": [
        "for i in range(10):\n",
        "    if i == 5:\n",
        "        break  # Exits loop when i is 5\n",
        "    print(i)\n",
        "\n",
        "for i in range(10):\n",
        "    if i == 5:\n",
        "        continue  # Skips 5\n",
        "    print(i)\n"
      ],
      "metadata": {
        "colab": {
          "base_uri": "https://localhost:8080/"
        },
        "id": "AhWeh1A4I7br",
        "outputId": "fd9c66d9-11d3-4219-cbe9-118985a25b06"
      },
      "execution_count": 25,
      "outputs": [
        {
          "output_type": "stream",
          "name": "stdout",
          "text": [
            "0\n",
            "1\n",
            "2\n",
            "3\n",
            "4\n",
            "0\n",
            "1\n",
            "2\n",
            "3\n",
            "4\n",
            "6\n",
            "7\n",
            "8\n",
            "9\n"
          ]
        }
      ]
    },
    {
      "cell_type": "markdown",
      "source": [
        "# 9: Problem-Solving Tasks"
      ],
      "metadata": {
        "id": "IntFDPmIJF60"
      }
    },
    {
      "cell_type": "markdown",
      "source": [
        "# 9.1 Find the Largest Number in a List"
      ],
      "metadata": {
        "id": "-MTalUX5JQ6K"
      }
    },
    {
      "cell_type": "code",
      "source": [
        "def find_largest(lst):\n",
        "    return max(lst)\n",
        "\n",
        "numbers = [10, 20, 5, 30, 25]\n",
        "print(\"Largest number:\", find_largest(numbers))"
      ],
      "metadata": {
        "colab": {
          "base_uri": "https://localhost:8080/"
        },
        "id": "s1GWyhkOJL4z",
        "outputId": "cf9f667a-222b-4fd3-cae9-89c9c2878075"
      },
      "execution_count": 26,
      "outputs": [
        {
          "output_type": "stream",
          "name": "stdout",
          "text": [
            "Largest number: 30\n"
          ]
        }
      ]
    },
    {
      "cell_type": "markdown",
      "source": [
        "# 9.2 Count Frequency of Elements in a List"
      ],
      "metadata": {
        "id": "kglTSEblJWAb"
      }
    },
    {
      "cell_type": "code",
      "source": [
        "def count_frequency(lst):\n",
        "    freq = {}\n",
        "    for num in lst:\n",
        "        freq[num] = freq.get(num, 0) + 1\n",
        "    return freq\n",
        "\n",
        "numbers = [1, 2, 2, 3, 3, 3, 4]\n",
        "print(\"Frequency:\", count_frequency(numbers))"
      ],
      "metadata": {
        "colab": {
          "base_uri": "https://localhost:8080/"
        },
        "id": "Ty_b7wytJc5b",
        "outputId": "0e9b1324-b696-4988-bb46-6c21cc0b0135"
      },
      "execution_count": 27,
      "outputs": [
        {
          "output_type": "stream",
          "name": "stdout",
          "text": [
            "Frequency: {1: 1, 2: 2, 3: 3, 4: 1}\n"
          ]
        }
      ]
    },
    {
      "cell_type": "markdown",
      "source": [
        "# 9.3 Find the Student with the Highest Marks"
      ],
      "metadata": {
        "id": "bc8RnmNVJqxL"
      }
    },
    {
      "cell_type": "code",
      "source": [
        "def top_student(marks_dict):\n",
        "    return max(marks_dict, key=marks_dict.get)\n",
        "\n",
        "students = {\"Alice\": 85, \"Bob\": 90, \"Charlie\": 78}\n",
        "print(\"Top student:\", top_student(students))"
      ],
      "metadata": {
        "colab": {
          "base_uri": "https://localhost:8080/"
        },
        "id": "WcxZvDkTJtGL",
        "outputId": "0b692993-95df-4e11-8383-a07a5af19e6c"
      },
      "execution_count": 28,
      "outputs": [
        {
          "output_type": "stream",
          "name": "stdout",
          "text": [
            "Top student: Bob\n"
          ]
        }
      ]
    },
    {
      "cell_type": "markdown",
      "source": [
        "# 9.4 Print Fibonacci Series up to a Given Number"
      ],
      "metadata": {
        "id": "NIC7Qw-QJ1Cy"
      }
    },
    {
      "cell_type": "code",
      "source": [
        "def fibonacci(n):\n",
        "    a, b = 0, 1\n",
        "    while a <= n:\n",
        "        print(a, end=\" \")\n",
        "        a, b = b, a + b\n",
        "\n",
        "fibonacci(50)"
      ],
      "metadata": {
        "colab": {
          "base_uri": "https://localhost:8080/"
        },
        "id": "tlMFyrrIJ3Cb",
        "outputId": "6d932bf2-509b-49d4-e09e-86c5ae7e930d"
      },
      "execution_count": 29,
      "outputs": [
        {
          "output_type": "stream",
          "name": "stdout",
          "text": [
            "0 1 1 2 3 5 8 13 21 34 "
          ]
        }
      ]
    },
    {
      "cell_type": "markdown",
      "source": [
        "# 9.5 Remove Duplicates from a List Using a Set"
      ],
      "metadata": {
        "id": "5WQfdBgPJ8zL"
      }
    },
    {
      "cell_type": "code",
      "source": [
        "def remove_duplicates(lst):\n",
        "    return list(set(lst))\n",
        "\n",
        "numbers = [1, 2, 2, 3, 3, 4, 5]\n",
        "print(\"Without duplicates:\", remove_duplicates(numbers))\n"
      ],
      "metadata": {
        "colab": {
          "base_uri": "https://localhost:8080/"
        },
        "id": "bnWtH9NkJ-2b",
        "outputId": "26c4d51a-dd83-4322-dc1c-e0dc129bfe56"
      },
      "execution_count": 30,
      "outputs": [
        {
          "output_type": "stream",
          "name": "stdout",
          "text": [
            "Without duplicates: [1, 2, 3, 4, 5]\n"
          ]
        }
      ]
    }
  ]
}